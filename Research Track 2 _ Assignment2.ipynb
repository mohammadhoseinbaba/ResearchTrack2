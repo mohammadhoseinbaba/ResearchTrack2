{
 "cells": [
  {
   "cell_type": "markdown",
   "id": "f83e318d",
   "metadata": {},
   "source": [
    "# Research Track 2 : Assignment2\n",
    "The objective of this task is to create a Jupyter Notebook that constructs a controller for a Robot operating within an environment. The Notebook will primarily consist of a User Interface, featuring the following components:\n",
    "1. Motion Control Buttons: These buttons enable the user to control the robot's movements within the environment.\n",
    "2. Position and Target Plot: This plot visually represents the positions of both the robot and the targets within the environment.\n",
    "3. Distance Display: A text box will display the distance to the nearest obstacle.\n",
    "4. Target Achievement Plot: This plot illustrates the number of targets reached versus the number of targets not yet reached by the robot."
   ]
  },
  {
   "cell_type": "markdown",
   "id": "49a00915",
   "metadata": {},
   "source": [
    "In the first cell, all the required modules are imported, and several global variables are initialized."
   ]
  },
  {
   "cell_type": "code",
   "execution_count": null,
   "id": "855bbbed",
   "metadata": {},
   "outputs": [],
   "source": [
    "import rospy\n",
    "import actionlib\n",
    "import ipywidgets as widgets\n",
    "from IPython.display import display\n",
    "from sensor_msgs.msg import LaserScan\n",
    "from sensor_msgs.msg import LaserScan\n",
    "import ipywidgets as widgets\n",
    "import matplotlib.pyplot as plt\n",
    "from nav_msgs.msg import Odometry\n",
    "from matplotlib.animation import FuncAnimation\n",
    "from geometry_msgs.msg import PoseStamped \n",
    "import actionlib.msg \n",
    "import assignment_2_2022.msg \n",
    "import os\n",
    "\n",
    "%matplotlib widget\n",
    "\n",
    "\n",
    "reached_goal_counter = 0\n",
    "canceled_goal_counter = 0"
   ]
  },
  {
   "cell_type": "markdown",
   "id": "d183ccc5",
   "metadata": {},
   "source": [
    "In this cell I implemented some buttons for handling the motion of the robot in the environment:"
   ]
  },
  {
   "cell_type": "code",
   "execution_count": null,
   "id": "0ea5354d",
   "metadata": {},
   "outputs": [],
   "source": [
    "def send_target(x, y):\n",
    "    rospy.init_node('NodeA')\n",
    "    client = actionlib.SimpleActionClient('/reaching_goal', assignment_2_2022.msg.PlanningAction)  \n",
    "    client.wait_for_server()\n",
    "\n",
    "    x_position = int(x)\n",
    "    y_position = int(y)\n",
    "    goal = PoseStamped()\n",
    "\n",
    "\n",
    "    goal.pose.position.x = x_position\n",
    "    goal.pose.position.y = y_position\n",
    "\n",
    "\n",
    "    goal = assignment_2_2022.msg.PlanningGoal(goal)    \n",
    "    client.send_goal(goal)\n",
    "    client.wait_for_result()\n",
    "\n",
    "def set_target_coordinates(button):\n",
    "    x = int(x_text.value)\n",
    "    y = int(y_text.value)\n",
    "    send_target(x, y)\n",
    "\n",
    "# Create the button and input fields\n",
    "x_text = widgets.Text(description='X:')\n",
    "y_text = widgets.Text(description='Y:')\n",
    "button = widgets.Button(description='Set Target')\n",
    "\n",
    "# Attach the button callback function\n",
    "button.on_click(set_target_coordinates)\n",
    "\n",
    "# Display the widgets\n",
    "display(x_text, y_text, button)"
   ]
  },
  {
   "cell_type": "markdown",
   "id": "2e8c3e75",
   "metadata": {},
   "source": [
    "In this cell, a plot is generated to display the positions of both the robot and the target within the environment. "
   ]
  },
  {
   "cell_type": "code",
   "execution_count": null,
   "id": "a5168247",
   "metadata": {},
   "outputs": [],
   "source": [
    "plt.switch_backend('TKAgg')\n",
    "\n",
    "class Visualiser:\n",
    "    def __init__(self):\n",
    "        self.fig, self.ax = plt.subplots()\n",
    "        self.ln, = plt.plot([], [], 'ro')\n",
    "        self.goal_ln, = plt.plot([], [], 'go')  # Line for goal position\n",
    "        self.x_data, self.y_data = [], []\n",
    "        self.goal_x, self.goal_y = None, None\n",
    "\n",
    "    def plot_init(self):\n",
    "        self.ax.set_xlim(-10, 10)\n",
    "        self.ax.set_ylim(-10, 10)\n",
    "        return self.ln, self.goal_ln\n",
    "\n",
    "    def odom_callback(self, msg):\n",
    "        self.y_data.append(msg.pose.pose.position.y)\n",
    "        self.x_data.append(msg.pose.pose.position.x)\n",
    "\n",
    "    def goal_callback(self, msg):\n",
    "        self.goal_x = msg.x\n",
    "        self.goal_y = msg.y\n",
    "\n",
    "    def update_plot(self, frame):\n",
    "        self.ln.set_data(self.x_data, self.y_data)\n",
    "        self.goal_ln.set_data(self.goal_x, self.goal_y)\n",
    "        return self.ln, self.goal_ln\n",
    "\n",
    "\n",
    "#rospy.init_node('odom_visualizer_node')\n",
    "vis = Visualiser()\n",
    "sub = rospy.Subscriber('/odom', Odometry, vis.odom_callback)\n",
    "des_pos_x = rospy.get_param(\"/des_pos_x\")\n",
    "des_pos_y = rospy.get_param(\"/des_pos_y\")\n",
    "vis.goal_x = des_pos_x\n",
    "vis.goal_y = des_pos_y\n",
    "ani = FuncAnimation(vis.fig, vis.update_plot, init_func=vis.plot_init)\n",
    "plt.show(block=True)\n"
   ]
  },
  {
   "cell_type": "markdown",
   "id": "7d5fbaa2",
   "metadata": {},
   "source": [
    "In this cell, the distance of the closest obstacle is displayed. "
   ]
  },
  {
   "cell_type": "code",
   "execution_count": null,
   "id": "4e5e7740",
   "metadata": {},
   "outputs": [],
   "source": [
    "class obstacle:\n",
    "    def __init__(self):\n",
    "        self.distance_text = widgets.FloatText(description='Closest obstacle:', value=5)\n",
    "\n",
    "    def laser_callback(self, msg):\n",
    "        closest_distance = min(msg.ranges)\n",
    "        self.distance_text.value = closest_distance\n",
    "\n",
    "vis = obstacle()\n",
    "sub = rospy.Subscriber('/scan', LaserScan, vis.laser_callback)\n",
    "\n",
    "# Display the distance text box\n",
    "display(vis.distance_text)"
   ]
  },
  {
   "cell_type": "markdown",
   "id": "169daf70",
   "metadata": {},
   "source": [
    "In this cell, the number of reached and canceled targets is presented. "
   ]
  },
  {
   "cell_type": "code",
   "execution_count": null,
   "id": "852f178e",
   "metadata": {},
   "outputs": [],
   "source": [
    "plt.switch_backend('TKAgg')\n",
    "\n",
    "\n",
    "def callback_subscriber(msg):\n",
    "    global reached_goal_counter, canceled_goal_counter\n",
    "    \n",
    "    if msg.status.status == 2:\n",
    "        canceled_goal_counter += 1\n",
    "    elif msg.status.status == 3:\n",
    "        reached_goal_counter += 1\n",
    "\n",
    "\n",
    "rospy.Subscriber(\"/reaching_goal/result\", assignment_2_2022.msg.PlanningActionResult, callback_subscriber)\n",
    "\n",
    "\n",
    "x_data = ['Reached Goals', 'Canceled Goals']\n",
    "y_data = [reached_goal_counter, canceled_goal_counter]\n",
    "# Plot the data\n",
    "plt.bar(x_data, y_data)\n",
    "plt.xlabel('Goal Status')\n",
    "plt.ylabel('Count')\n",
    "plt.title('Reached and Canceled Goals')\n",
    "plt.show()\n"
   ]
  }
 ],
 "metadata": {
  "kernelspec": {
   "display_name": "Python 3 (ipykernel)",
   "language": "python",
   "name": "python3"
  },
  "language_info": {
   "codemirror_mode": {
    "name": "ipython",
    "version": 3
   },
   "file_extension": ".py",
   "mimetype": "text/x-python",
   "name": "python",
   "nbconvert_exporter": "python",
   "pygments_lexer": "ipython3",
   "version": "3.8.10"
  }
 },
 "nbformat": 4,
 "nbformat_minor": 5
}
